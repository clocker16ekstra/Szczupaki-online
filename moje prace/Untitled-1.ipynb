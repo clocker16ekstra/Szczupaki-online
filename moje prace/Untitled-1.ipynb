{
 "cells": [
  {
   "cell_type": "code",
   "execution_count": null,
   "id": "2eeb1c77",
   "metadata": {},
   "outputs": [],
   "source": [
    "hello\n",
    "\n",
    "giga\n",
    "beat\n",
    "bout\n"
   ]
  }
 ],
 "metadata": {
  "language_info": {
   "name": "python"
  }
 },
 "nbformat": 4,
 "nbformat_minor": 5
}
